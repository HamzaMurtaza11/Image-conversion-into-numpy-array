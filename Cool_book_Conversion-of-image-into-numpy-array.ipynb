{
 "cells": [
  {
   "cell_type": "code",
   "execution_count": 1,
   "metadata": {},
   "outputs": [],
   "source": [
    "import numpy as np"
   ]
  },
  {
   "cell_type": "markdown",
   "metadata": {},
   "source": [
    "<img src=\"racingcar1.jpeg\"/>"
   ]
  },
  {
   "cell_type": "code",
   "execution_count": 7,
   "metadata": {},
   "outputs": [],
   "source": [
    "# Converting image into numpy array"
   ]
  },
  {
   "cell_type": "code",
   "execution_count": 8,
   "metadata": {},
   "outputs": [],
   "source": [
    "from matplotlib.image import imread"
   ]
  },
  {
   "cell_type": "code",
   "execution_count": 9,
   "metadata": {},
   "outputs": [],
   "source": [
    "car=imread(\"racingcar1.jpeg\")"
   ]
  },
  {
   "cell_type": "code",
   "execution_count": 10,
   "metadata": {},
   "outputs": [
    {
     "data": {
      "text/plain": [
       "numpy.ndarray"
      ]
     },
     "execution_count": 10,
     "metadata": {},
     "output_type": "execute_result"
    }
   ],
   "source": [
    "type(car)"
   ]
  },
  {
   "cell_type": "code",
   "execution_count": 11,
   "metadata": {},
   "outputs": [
    {
     "data": {
      "text/plain": [
       "array([[[228, 238, 247],\n",
       "        [228, 238, 247],\n",
       "        [228, 239, 245],\n",
       "        ...,\n",
       "        [ 52,  68,   5],\n",
       "        [ 56,  71,   6],\n",
       "        [ 63,  75,   9]],\n",
       "\n",
       "       [[228, 238, 247],\n",
       "        [228, 239, 245],\n",
       "        [228, 239, 245],\n",
       "        ...,\n",
       "        [ 46,  63,   8],\n",
       "        [ 57,  72,  15],\n",
       "        [ 67,  81,  22]],\n",
       "\n",
       "       [[228, 239, 245],\n",
       "        [228, 239, 245],\n",
       "        [228, 239, 245],\n",
       "        ...,\n",
       "        [ 39,  61,  15],\n",
       "        [ 55,  72,  27],\n",
       "        [ 65,  81,  34]],\n",
       "\n",
       "       ...,\n",
       "\n",
       "       [[146, 144, 132],\n",
       "        [148, 146, 134],\n",
       "        [150, 148, 136],\n",
       "        ...,\n",
       "        [144, 144, 136],\n",
       "        [143, 143, 135],\n",
       "        [142, 142, 134]],\n",
       "\n",
       "       [[146, 142, 131],\n",
       "        [147, 143, 132],\n",
       "        [148, 144, 133],\n",
       "        ...,\n",
       "        [143, 143, 135],\n",
       "        [141, 141, 133],\n",
       "        [138, 138, 130]],\n",
       "\n",
       "       [[145, 141, 130],\n",
       "        [145, 141, 130],\n",
       "        [145, 141, 130],\n",
       "        ...,\n",
       "        [152, 152, 144],\n",
       "        [148, 148, 140],\n",
       "        [145, 145, 137]]], dtype=uint8)"
      ]
     },
     "execution_count": 11,
     "metadata": {},
     "output_type": "execute_result"
    }
   ],
   "source": [
    "car"
   ]
  },
  {
   "cell_type": "code",
   "execution_count": 12,
   "metadata": {},
   "outputs": [
    {
     "data": {
      "text/plain": [
       "499500"
      ]
     },
     "execution_count": 12,
     "metadata": {},
     "output_type": "execute_result"
    }
   ],
   "source": [
    "car.size"
   ]
  },
  {
   "cell_type": "code",
   "execution_count": 13,
   "metadata": {},
   "outputs": [
    {
     "data": {
      "text/plain": [
       "(333, 500, 3)"
      ]
     },
     "execution_count": 13,
     "metadata": {},
     "output_type": "execute_result"
    }
   ],
   "source": [
    "car.shape"
   ]
  },
  {
   "cell_type": "code",
   "execution_count": 14,
   "metadata": {},
   "outputs": [
    {
     "data": {
      "text/plain": [
       "3"
      ]
     },
     "execution_count": 14,
     "metadata": {},
     "output_type": "execute_result"
    }
   ],
   "source": [
    "car.ndim"
   ]
  },
  {
   "cell_type": "code",
   "execution_count": 15,
   "metadata": {},
   "outputs": [
    {
     "data": {
      "text/plain": [
       "array([[[228, 238, 247],\n",
       "        [228, 238, 247],\n",
       "        [228, 239, 245],\n",
       "        ...,\n",
       "        [ 52,  68,   5],\n",
       "        [ 56,  71,   6],\n",
       "        [ 63,  75,   9]],\n",
       "\n",
       "       [[228, 238, 247],\n",
       "        [228, 239, 245],\n",
       "        [228, 239, 245],\n",
       "        ...,\n",
       "        [ 46,  63,   8],\n",
       "        [ 57,  72,  15],\n",
       "        [ 67,  81,  22]],\n",
       "\n",
       "       [[228, 239, 245],\n",
       "        [228, 239, 245],\n",
       "        [228, 239, 245],\n",
       "        ...,\n",
       "        [ 39,  61,  15],\n",
       "        [ 55,  72,  27],\n",
       "        [ 65,  81,  34]],\n",
       "\n",
       "       ...,\n",
       "\n",
       "       [[ 97, 111,  78],\n",
       "        [ 96, 107,  73],\n",
       "        [ 99, 111,  75],\n",
       "        ...,\n",
       "        [ 25, 121,  24],\n",
       "        [ 27, 127,  29],\n",
       "        [ 22, 128,  30]],\n",
       "\n",
       "       [[101, 112,  78],\n",
       "        [ 97, 107,  72],\n",
       "        [ 98, 108,  71],\n",
       "        ...,\n",
       "        [ 26, 128,  29],\n",
       "        [ 21, 127,  29],\n",
       "        [  9, 121,  21]],\n",
       "\n",
       "       [[102, 112,  77],\n",
       "        [ 95, 105,  68],\n",
       "        [ 96, 104,  65],\n",
       "        ...,\n",
       "        [ 24, 128,  33],\n",
       "        [ 19, 126,  32],\n",
       "        [  6, 120,  24]]], dtype=uint8)"
      ]
     },
     "execution_count": 15,
     "metadata": {},
     "output_type": "execute_result"
    }
   ],
   "source": [
    "car[:101]"
   ]
  },
  {
   "cell_type": "code",
   "execution_count": 17,
   "metadata": {},
   "outputs": [
    {
     "data": {
      "text/plain": [
       "228"
      ]
     },
     "execution_count": 17,
     "metadata": {},
     "output_type": "execute_result"
    }
   ],
   "source": [
    "car[0][0][0]"
   ]
  },
  {
   "cell_type": "code",
   "execution_count": 18,
   "metadata": {},
   "outputs": [
    {
     "data": {
      "text/plain": [
       "array([228, 238, 247], dtype=uint8)"
      ]
     },
     "execution_count": 18,
     "metadata": {},
     "output_type": "execute_result"
    }
   ],
   "source": [
    "car[0][0][0:3]"
   ]
  },
  {
   "cell_type": "code",
   "execution_count": null,
   "metadata": {},
   "outputs": [],
   "source": []
  }
 ],
 "metadata": {
  "kernelspec": {
   "display_name": "Python 3",
   "language": "python",
   "name": "python3"
  },
  "language_info": {
   "codemirror_mode": {
    "name": "ipython",
    "version": 3
   },
   "file_extension": ".py",
   "mimetype": "text/x-python",
   "name": "python",
   "nbconvert_exporter": "python",
   "pygments_lexer": "ipython3",
   "version": "3.7.3"
  }
 },
 "nbformat": 4,
 "nbformat_minor": 2
}
